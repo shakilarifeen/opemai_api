{
 "cells": [
  {
   "cell_type": "code",
   "execution_count": 1,
   "id": "3b9bb672-0af0-404c-9c8a-fe54e79272f9",
   "metadata": {},
   "outputs": [],
   "source": [
    "# can be utlized to build a chatbot that remembers what the user ha input previously"
   ]
  },
  {
   "cell_type": "code",
   "execution_count": 2,
   "id": "98563cb6-a674-4d1e-ac1c-9748739eb05f",
   "metadata": {},
   "outputs": [],
   "source": [
    "from openai import OpenAI"
   ]
  },
  {
   "cell_type": "code",
   "execution_count": 3,
   "id": "d9161c22-9a4b-4b55-b8a9-bd52532d9c59",
   "metadata": {},
   "outputs": [],
   "source": [
    "client = OpenAI()"
   ]
  },
  {
   "cell_type": "code",
   "execution_count": 4,
   "id": "76c3c704-8c9a-465c-8f60-c6cc96ea8764",
   "metadata": {},
   "outputs": [],
   "source": [
    "system_prompt = \"You are a helpful assistant that provides direct and straightforward answers that are short as possible.\" + \\\n",
    "\"You nver end with caveats such as 'It is important to remember...'\""
   ]
  },
  {
   "cell_type": "code",
   "execution_count": 5,
   "id": "87458a86-77d7-4242-80a6-8f94432e2b14",
   "metadata": {},
   "outputs": [],
   "source": [
    "def complete(messages):\n",
    "    completion = client.chat.completions.create(\n",
    "        model = 'gpt-4o-mini',\n",
    "        messages = messages,\n",
    "        temperature=0,\n",
    "        max_tokens = 200,\n",
    "    )\n",
    "    return completion"
   ]
  },
  {
   "cell_type": "code",
   "execution_count": 12,
   "id": "e951a4ab-3d40-4f36-8d65-767be8eb8356",
   "metadata": {},
   "outputs": [],
   "source": [
    "class Assistant:\n",
    "    def __init__(self):\n",
    "        self.messages = [\n",
    "            {\"role\":\"system\", \"content\":system_prompt},\n",
    "        ]\n",
    "    def query(self, prompt):\n",
    "        self.messages.append({\n",
    "            \"role\":\"user\", \"content\":prompt,\n",
    "        })\n",
    "        completion = complete(self.messages)\n",
    "\n",
    "        content = completion.choices[0].message.content\n",
    "\n",
    "        self.messages.append({\n",
    "            \"role\":\"assistant\", \"content\":content,\n",
    "        })\n",
    "        print(content)\n",
    "            "
   ]
  },
  {
   "cell_type": "code",
   "execution_count": 13,
   "id": "647400de-4534-4a56-98cf-915b5c8d4633",
   "metadata": {},
   "outputs": [],
   "source": [
    "bot = Assistant()"
   ]
  },
  {
   "cell_type": "code",
   "execution_count": 14,
   "id": "4441f428-6f6e-4951-8c9f-9b8795aadeec",
   "metadata": {},
   "outputs": [
    {
     "name": "stdout",
     "output_type": "stream",
     "text": [
      "1. Mathematics: Linear algebra, calculus, probability, and statistics.\n",
      "2. Programming: Proficiency in Python or R.\n",
      "3. Data Handling: Knowledge of data manipulation and analysis (e.g., using pandas, NumPy).\n",
      "4. Algorithms: Understanding of basic machine learning algorithms and concepts.\n",
      "5. Data Visualization: Familiarity with tools like Matplotlib or Seaborn.\n",
      "6. Domain Knowledge: Understanding the specific field of application.\n"
     ]
    }
   ],
   "source": [
    "bot.query(\"What are pre-requisites for Machine Learning?\")"
   ]
  },
  {
   "cell_type": "code",
   "execution_count": 15,
   "id": "6663c811-e95f-43c2-bf47-2003c3a3fdb7",
   "metadata": {},
   "outputs": [
    {
     "name": "stdout",
     "output_type": "stream",
     "text": [
      "1. Mathematics: Start with linear algebra and statistics, then move to calculus and probability.\n",
      "2. Programming: Learn Python or R alongside basic programming concepts.\n",
      "3. Data Handling: Study data manipulation with libraries like pandas and NumPy.\n",
      "4. Algorithms: Learn basic machine learning algorithms and concepts.\n",
      "5. Data Visualization: Explore visualization tools and techniques.\n",
      "6. Domain Knowledge: Apply your skills to a specific field of interest.\n"
     ]
    }
   ],
   "source": [
    "bot.query(\"What is the best order to study these subjects?\")"
   ]
  },
  {
   "cell_type": "code",
   "execution_count": 16,
   "id": "e6c0b86a-76a9-4e5b-a429-8193c97f02ac",
   "metadata": {},
   "outputs": [
    {
     "name": "stdout",
     "output_type": "stream",
     "text": [
      "Mathematics is the most important subject, as it forms the foundation for understanding machine learning algorithms and concepts.\n"
     ]
    }
   ],
   "source": [
    "bot.query(\"What's the most importatn subject out of the above?\")"
   ]
  },
  {
   "cell_type": "code",
   "execution_count": 17,
   "id": "fcfb82a4-d54d-45f9-8fa0-491edf663a4d",
   "metadata": {},
   "outputs": [
    {
     "name": "stdout",
     "output_type": "stream",
     "text": [
      "You asked for the pre-requisites for Machine Learning.\n"
     ]
    }
   ],
   "source": [
    "bot.query(\"What did I ask pre-requisites for?\")"
   ]
  },
  {
   "cell_type": "code",
   "execution_count": null,
   "id": "bba1e3a5-eb66-4411-91fa-5aad5e883314",
   "metadata": {},
   "outputs": [],
   "source": []
  }
 ],
 "metadata": {
  "kernelspec": {
   "display_name": "Python 3 (ipykernel)",
   "language": "python",
   "name": "python3"
  },
  "language_info": {
   "codemirror_mode": {
    "name": "ipython",
    "version": 3
   },
   "file_extension": ".py",
   "mimetype": "text/x-python",
   "name": "python",
   "nbconvert_exporter": "python",
   "pygments_lexer": "ipython3",
   "version": "3.12.5"
  }
 },
 "nbformat": 4,
 "nbformat_minor": 5
}
