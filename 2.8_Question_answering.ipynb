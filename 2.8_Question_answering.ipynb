{
 "cells": [
  {
   "cell_type": "code",
   "execution_count": 7,
   "id": "45e02e82-bc1d-4543-ade7-7b13a2b629f6",
   "metadata": {},
   "outputs": [
    {
     "name": "stdout",
     "output_type": "stream",
     "text": [
      "Dr. Evelyn Hawthorne (1835-1901) was a renowned physicist and pioneer of ether theory during the 19th century. Born into a family of intellectuals in the countryside of England, Hawthorne displayed an insatiable curiosity for the natural world from a young age. Her early fascination with the workings of the universe led her to pursue a career in science, a field typically dominated by men during her time.\n",
      "\n",
      "After receiving a comprehensive education in mathematics and natural philosophy at Oxford University, Hawthorne embarked on a journey of scientific exploration that would redefine the understanding of fundamental physical principles. Her groundbreaking research into the properties of ether, a hypothetical substance believed to permeate all of space and serve as the medium for the propagation of light, propelled her to the forefront of the scientific community.\n",
      "\n",
      "Despite facing prejudice and skepticism from her male colleagues, Hawthorne remained undeterred in her pursuit of knowledge. Through meticulous experimentation and theoretical analysis, she developed a comprehensive framework for understanding the behavior of ether and its interactions with matter. Her seminal work laid the foundation for subsequent advancements in theoretical physics and paved the way for Albert Einstein's theory of relativity.\n",
      "\n",
      "In addition to her contributions to theoretical physics, Hawthorne was also a passionate advocate for women's rights and education. She championed equal opportunities for women in academia and tirelessly campaigned for the inclusion of female scientists in professional societies.\n",
      "\n",
      "Throughout her illustrious career, Hawthorne received numerous accolades and honors for her groundbreaking contributions to the field of physics. Her legacy continues to inspire future generations of scientists to push the boundaries of human knowledge and challenge conventional wisdom in the pursuit of truth.\n",
      "\n"
     ]
    }
   ],
   "source": [
    "# Please generate a made-up biography of an 1800s physicist.\n",
    "\n",
    "bio = \"\"\"Dr. Evelyn Hawthorne (1835-1901) was a renowned physicist and pioneer of ether theory during the 19th century. Born into a family of intellectuals in the countryside of England, Hawthorne displayed an insatiable curiosity for the natural world from a young age. Her early fascination with the workings of the universe led her to pursue a career in science, a field typically dominated by men during her time.\n",
    "\n",
    "After receiving a comprehensive education in mathematics and natural philosophy at Oxford University, Hawthorne embarked on a journey of scientific exploration that would redefine the understanding of fundamental physical principles. Her groundbreaking research into the properties of ether, a hypothetical substance believed to permeate all of space and serve as the medium for the propagation of light, propelled her to the forefront of the scientific community.\n",
    "\n",
    "Despite facing prejudice and skepticism from her male colleagues, Hawthorne remained undeterred in her pursuit of knowledge. Through meticulous experimentation and theoretical analysis, she developed a comprehensive framework for understanding the behavior of ether and its interactions with matter. Her seminal work laid the foundation for subsequent advancements in theoretical physics and paved the way for Albert Einstein's theory of relativity.\n",
    "\n",
    "In addition to her contributions to theoretical physics, Hawthorne was also a passionate advocate for women's rights and education. She championed equal opportunities for women in academia and tirelessly campaigned for the inclusion of female scientists in professional societies.\n",
    "\n",
    "Throughout her illustrious career, Hawthorne received numerous accolades and honors for her groundbreaking contributions to the field of physics. Her legacy continues to inspire future generations of scientists to push the boundaries of human knowledge and challenge conventional wisdom in the pursuit of truth.\n",
    "\"\"\"\n",
    "print(bio)"
   ]
  },
  {
   "cell_type": "code",
   "execution_count": 8,
   "id": "ab21107a-e458-4e4c-8b15-7a5d5aa7ac3d",
   "metadata": {},
   "outputs": [],
   "source": [
    "from openai import OpenAI"
   ]
  },
  {
   "cell_type": "code",
   "execution_count": 9,
   "id": "07b1d847-6c8d-453f-bbf0-502211e1b9ed",
   "metadata": {},
   "outputs": [],
   "source": [
    "client = OpenAI() "
   ]
  },
  {
   "cell_type": "code",
   "execution_count": 10,
   "id": "de1bcfb6-2a40-4929-bea8-f4cd643fe6a4",
   "metadata": {},
   "outputs": [],
   "source": [
    "system_prompt = \"\"\"You are a helpful assistant that answers questions truthfully and factually. Your \\\n",
    "answers should be short and concise. If you don't know the answer, say so.\"\"\""
   ]
  },
  {
   "cell_type": "code",
   "execution_count": 11,
   "id": "c7c06343-249f-40c2-8b71-81c96dd6a120",
   "metadata": {},
   "outputs": [],
   "source": [
    "def complete(user_prompt):\n",
    "    completion = client.chat.completions.create(\n",
    "        model = 'gpt-4o-mini',\n",
    "        messages=[\n",
    "            {\"role\":\"system\", \"content\":system_prompt},\n",
    "            {\"role\":\"user\", \"content\":user_prompt}\n",
    "        ],\n",
    "        temperature=0,\n",
    "        max_tokens = 100,\n",
    "    )\n",
    "    return completion"
   ]
  },
  {
   "cell_type": "code",
   "execution_count": 12,
   "id": "521880af-5505-4de9-bc5a-bb82a1d24b62",
   "metadata": {},
   "outputs": [],
   "source": [
    "def answer(question, context):\n",
    "    prompt = f\"\"\"Please answer the following question:\n",
    "    Question:\n",
    "    ```{question}```\n",
    "    Use the following context to find answers:\n",
    "    ```{context}```\n",
    "    \"\"\"\n",
    "    completion = complete(prompt)\n",
    "    content = completion.choices[0].message.content\n",
    "    print(content)"
   ]
  },
  {
   "cell_type": "code",
   "execution_count": 13,
   "id": "84069a32-06c6-4217-b60a-da3dc7715d21",
   "metadata": {},
   "outputs": [
    {
     "name": "stdout",
     "output_type": "stream",
     "text": [
      "Dr. Evelyn Hawthorne was born in 1835.\n"
     ]
    }
   ],
   "source": [
    "q = \"When was Dr. Evelyn Hawthorne born?\"\n",
    "answer(q, bio)"
   ]
  },
  {
   "cell_type": "code",
   "execution_count": 14,
   "id": "8294faf8-db91-436f-9f19-ade2bd8152b8",
   "metadata": {},
   "outputs": [
    {
     "name": "stdout",
     "output_type": "stream",
     "text": [
      "The context provided does not mention Dr. Evelyn Hawthorne's height. Therefore, I do not know how tall she was.\n"
     ]
    }
   ],
   "source": [
    "q = \"How tall was Dr. Evelyn Hawthorne?\"\n",
    "answer(q, bio)"
   ]
  },
  {
   "cell_type": "code",
   "execution_count": 15,
   "id": "b4d7c62c-6bad-48a6-bf19-06cf20ef7e80",
   "metadata": {},
   "outputs": [
    {
     "name": "stdout",
     "output_type": "stream",
     "text": [
      "Dr. Evelyn Hawthorne's field of study was physics, specifically focusing on ether theory.\n"
     ]
    }
   ],
   "source": [
    "q = \"What was Dr. Evelyn Hawthorne's field of study?\"\n",
    "answer(q, bio)"
   ]
  },
  {
   "cell_type": "code",
   "execution_count": 16,
   "id": "62089c2a-faf6-4ad3-9118-188b07b930f1",
   "metadata": {},
   "outputs": [
    {
     "name": "stdout",
     "output_type": "stream",
     "text": [
      "Dr. Evelyn Hawthorne inspired later discoveries in theoretical physics, particularly paving the way for Albert Einstein's theory of relativity. Her work on ether theory and its interactions with matter laid a foundation for advancements in understanding fundamental physical principles.\n"
     ]
    }
   ],
   "source": [
    "q = \"What later discoveries did Dr. HAwthorne inspire?\"\n",
    "answer(q, bio)"
   ]
  },
  {
   "cell_type": "code",
   "execution_count": 20,
   "id": "edd83725-6007-41a3-9456-6ceb3427bedb",
   "metadata": {},
   "outputs": [
    {
     "name": "stdout",
     "output_type": "stream",
     "text": [
      "The Lazy Programmer offers several courses, primarily focused on data science, machine learning, and programming. The exact number of courses may vary over time, so it's best to check their official website or platform for the most current offerings.\n"
     ]
    }
   ],
   "source": [
    "q = \"How many course does the lazy programmer have?\"\n",
    "completion = complete(q)\n",
    "content = completion.choices[0].message.content\n",
    "print(content)"
   ]
  },
  {
   "cell_type": "code",
   "execution_count": null,
   "id": "cc95bdc1-2272-4f3d-b0f3-d1fd48a65841",
   "metadata": {},
   "outputs": [],
   "source": []
  }
 ],
 "metadata": {
  "kernelspec": {
   "display_name": "Python 3 (ipykernel)",
   "language": "python",
   "name": "python3"
  },
  "language_info": {
   "codemirror_mode": {
    "name": "ipython",
    "version": 3
   },
   "file_extension": ".py",
   "mimetype": "text/x-python",
   "name": "python",
   "nbconvert_exporter": "python",
   "pygments_lexer": "ipython3",
   "version": "3.12.5"
  }
 },
 "nbformat": 4,
 "nbformat_minor": 5
}
