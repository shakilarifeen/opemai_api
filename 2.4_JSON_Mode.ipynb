{
 "cells": [
  {
   "cell_type": "code",
   "execution_count": 1,
   "id": "87fc75e4-bae9-4211-908a-d215f958cc6a",
   "metadata": {},
   "outputs": [],
   "source": [
    "from openai import OpenAI"
   ]
  },
  {
   "cell_type": "code",
   "execution_count": 2,
   "id": "51282c0f-d5cd-42fb-9b6a-7aaf5978849d",
   "metadata": {},
   "outputs": [],
   "source": [
    "client = OpenAI()"
   ]
  },
  {
   "cell_type": "code",
   "execution_count": 3,
   "id": "9205e17e-694a-4071-9ca8-6d52c3834f62",
   "metadata": {},
   "outputs": [],
   "source": [
    "completion = client.chat.completions.create(\n",
    "    model='gpt-4o-mini',\n",
    "    response_format={\"type\":\"json_object\"},\n",
    "    messages=[\n",
    "        {\"role\":\"system\", \"content\":\"You are a helpful assistant designed to output JSON\"},\n",
    "        {\"role\":\"user\", \"content\":\"Who won the F1 championship in 2020\"},    \n",
    "    ]\n",
    ")"
   ]
  },
  {
   "cell_type": "code",
   "execution_count": 4,
   "id": "bdf25182-7f11-41b9-b7b1-4016b9312cb4",
   "metadata": {},
   "outputs": [
    {
     "data": {
      "text/plain": [
       "ChatCompletion(id='chatcmpl-ACnKIZMw94WwEirYDBGUVubIzryjk', choices=[Choice(finish_reason='stop', index=0, logprobs=None, message=ChatCompletionMessage(content='{\\n  \"year\": 2020,\\n  \"champion\": {\\n    \"name\": \"Lewis Hamilton\",\\n    \"team\": \"Mercedes\"\\n  }\\n}', refusal=None, role='assistant', function_call=None, tool_calls=None))], created=1727612910, model='gpt-4o-mini-2024-07-18', object='chat.completion', service_tier=None, system_fingerprint='fp_74ba47b4ac', usage=CompletionUsage(completion_tokens=33, prompt_tokens=30, total_tokens=63, completion_tokens_details=CompletionTokensDetails(reasoning_tokens=0)))"
      ]
     },
     "execution_count": 4,
     "metadata": {},
     "output_type": "execute_result"
    }
   ],
   "source": [
    "completion"
   ]
  },
  {
   "cell_type": "code",
   "execution_count": 5,
   "id": "308c7e37-29be-4cf5-bd7b-8fc6cb2c4969",
   "metadata": {},
   "outputs": [
    {
     "name": "stdout",
     "output_type": "stream",
     "text": [
      "{\n",
      "  \"year\": 2020,\n",
      "  \"champion\": {\n",
      "    \"name\": \"Lewis Hamilton\",\n",
      "    \"team\": \"Mercedes\"\n",
      "  }\n",
      "}\n"
     ]
    }
   ],
   "source": [
    "print(completion.choices[0].message.content)"
   ]
  },
  {
   "cell_type": "code",
   "execution_count": null,
   "id": "7689b7d9-2cb4-4d5e-a30b-b0a3fee77854",
   "metadata": {},
   "outputs": [],
   "source": []
  }
 ],
 "metadata": {
  "kernelspec": {
   "display_name": "Python 3 (ipykernel)",
   "language": "python",
   "name": "python3"
  },
  "language_info": {
   "codemirror_mode": {
    "name": "ipython",
    "version": 3
   },
   "file_extension": ".py",
   "mimetype": "text/x-python",
   "name": "python",
   "nbconvert_exporter": "python",
   "pygments_lexer": "ipython3",
   "version": "3.12.5"
  }
 },
 "nbformat": 4,
 "nbformat_minor": 5
}
