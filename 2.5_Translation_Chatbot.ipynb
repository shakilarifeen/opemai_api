{
 "cells": [
  {
   "cell_type": "code",
   "execution_count": 1,
   "id": "e6218b88-3f5b-4420-89da-b678c3ee84e9",
   "metadata": {},
   "outputs": [],
   "source": [
    "from openai import OpenAI"
   ]
  },
  {
   "cell_type": "code",
   "execution_count": 2,
   "id": "270a8857-5a28-441d-b765-a78120a98388",
   "metadata": {},
   "outputs": [],
   "source": [
    "client = OpenAI()"
   ]
  },
  {
   "cell_type": "code",
   "execution_count": 6,
   "id": "320be160-960c-45a4-a7d1-3c4fed3e1f75",
   "metadata": {},
   "outputs": [],
   "source": [
    "def complete(user_prompt):\n",
    "    completion = client.chat.completions.create(\n",
    "        model='gpt-4o-mini',\n",
    "        messages=[\n",
    "            {\"role\":\"user\", \"content\":user_prompt}\n",
    "            ],\n",
    "        temperature=0,\n",
    "    )\n",
    "    return completion"
   ]
  },
  {
   "cell_type": "code",
   "execution_count": 7,
   "id": "c47598fb-cbef-4c01-afe2-729ae82315d6",
   "metadata": {},
   "outputs": [],
   "source": [
    "prompt= f\"\"\"\n",
    "Translate the following text to spanish: \\\n",
    "```How are you?```\n",
    "\"\"\"\n",
    "\n",
    "completion = complete(prompt)"
   ]
  },
  {
   "cell_type": "code",
   "execution_count": 10,
   "id": "6155de87-4648-44a4-a6ec-335110ebc068",
   "metadata": {},
   "outputs": [],
   "source": [
    "def print_response(completion):\n",
    "    content = completion.choices[0].message.content\n",
    "    print(content)"
   ]
  },
  {
   "cell_type": "code",
   "execution_count": 11,
   "id": "ff5822d2-c5f3-4024-a285-932876105755",
   "metadata": {},
   "outputs": [
    {
     "name": "stdout",
     "output_type": "stream",
     "text": [
      "The translation of \"How are you?\" to Spanish is \"¿Cómo estás?\"\n"
     ]
    }
   ],
   "source": [
    "print_response(completion)"
   ]
  },
  {
   "cell_type": "code",
   "execution_count": 13,
   "id": "a47e5314-d1f3-454f-9e50-a75743ac53e5",
   "metadata": {},
   "outputs": [
    {
     "name": "stdout",
     "output_type": "stream",
     "text": [
      "The message is in Chinese and it translates to \"My blender is broken. What should I do?\"\n"
     ]
    }
   ],
   "source": [
    "user_message = \"我的搅拌机坏了。 我应该怎么办\"\n",
    "\n",
    "prompt = f\"\"\"\n",
    "What does the below message say and what language is it in? \\\n",
    "```{user_message}```\n",
    "\"\"\"\n",
    "\n",
    "completion = complete(prompt)\n",
    "print_response(completion)"
   ]
  },
  {
   "cell_type": "code",
   "execution_count": 14,
   "id": "f19a6843-e0c5-496f-ba25-3e2a1f77ec0e",
   "metadata": {},
   "outputs": [
    {
     "name": "stdout",
     "output_type": "stream",
     "text": [
      "你可以尝试以下几种方法：\n",
      "\n",
      "1. **检查电源**：确保搅拌机插头插好，电源正常。\n",
      "2. **清洁**：有时候，食物残渣可能会卡住刀片，试着清洁一下。\n",
      "3. **查看说明书**：如果有说明书，可以查找故障排除部分。\n",
      "4. **联系售后**：如果以上方法都无效，建议联系厂家或售后服务进行维修。\n",
      "\n",
      "希望这些建议能帮到你！\n"
     ]
    }
   ],
   "source": [
    "prompt = f\"\"\"Please type out a reply for the message \\\n",
    "```{user_message}```\n",
    "\"\"\"\n",
    "\n",
    "completion = complete(prompt)\n",
    "print_response(completion)"
   ]
  },
  {
   "cell_type": "code",
   "execution_count": null,
   "id": "0cdd0ba2-d1a5-4503-81ac-78a6fe0e891a",
   "metadata": {},
   "outputs": [],
   "source": []
  }
 ],
 "metadata": {
  "kernelspec": {
   "display_name": "Python 3 (ipykernel)",
   "language": "python",
   "name": "python3"
  },
  "language_info": {
   "codemirror_mode": {
    "name": "ipython",
    "version": 3
   },
   "file_extension": ".py",
   "mimetype": "text/x-python",
   "name": "python",
   "nbconvert_exporter": "python",
   "pygments_lexer": "ipython3",
   "version": "3.12.5"
  }
 },
 "nbformat": 4,
 "nbformat_minor": 5
}
