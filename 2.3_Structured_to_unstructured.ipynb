{
 "cells": [
  {
   "cell_type": "code",
   "execution_count": 1,
   "id": "ef726c33-a6d3-4f7f-ace2-0a74e8a907ae",
   "metadata": {},
   "outputs": [],
   "source": [
    "from openai import OpenAI"
   ]
  },
  {
   "cell_type": "code",
   "execution_count": 2,
   "id": "e21e8625-2037-425d-b595-929e3493fd2d",
   "metadata": {},
   "outputs": [],
   "source": [
    "client = OpenAI()"
   ]
  },
  {
   "cell_type": "code",
   "execution_count": 3,
   "id": "106a0ba3-6ef7-4112-9ca5-79171fa4b55b",
   "metadata": {},
   "outputs": [],
   "source": [
    "system_prompt = \"You are an assistant that write concise, detialed and factual quarterly earnings report given structured data.\""
   ]
  },
  {
   "cell_type": "code",
   "execution_count": 6,
   "id": "504afa08-2f38-4280-8cbb-ff24a685e864",
   "metadata": {},
   "outputs": [],
   "source": [
    "def complete(user_prompt):\n",
    "    completion = client.chat.completions.create(\n",
    "        model = 'gpt-4o-mini',\n",
    "        messages = [\n",
    "            {\"role\":\"system\", \"content\":system_prompt},\n",
    "            {\"role\":\"user\", \"content\":user_prompt},\n",
    "        ],\n",
    "        temperature = 0,\n",
    "    )\n",
    "    return completion"
   ]
  },
  {
   "cell_type": "code",
   "execution_count": 7,
   "id": "bcf3250a-07b4-46d3-9c21-a1ba5fa009d3",
   "metadata": {},
   "outputs": [],
   "source": [
    "import json"
   ]
  },
  {
   "cell_type": "code",
   "execution_count": 8,
   "id": "961849f2-35df-4997-8c26-13d948822771",
   "metadata": {},
   "outputs": [],
   "source": [
    "j = {'CEO': 'Tim Cook',\n",
    " 'CFO': 'Luca Maestri',\n",
    " 'company': 'Apple',\n",
    " 'dividend_payable_date': 'November 16, 2023',\n",
    " 'dividend_per_share': '$0.24',\n",
    " 'dividend_record_date': 'November 13, 2023',\n",
    " 'earnings_call_date': 'November 2, 2023',\n",
    " 'earnings_call_time': '2:00 p.m. PT',\n",
    " 'earnings_call_webcast': 'apple.com/investor/earnings-call',\n",
    " 'earnings_per_share': '$1.46',\n",
    " 'earnings_per_share_change_year_over_year': '13%',\n",
    " 'fiscal_year': 2023,\n",
    " 'quarter': 'Q4',\n",
    " 'quarterly_revenue': '$89.5 billion',\n",
    " 'revenue_change_year_over_year': '-1%'}"
   ]
  },
  {
   "cell_type": "code",
   "execution_count": 9,
   "id": "3a515143-676c-4fc0-b118-bc95136f21a6",
   "metadata": {},
   "outputs": [
    {
     "name": "stdout",
     "output_type": "stream",
     "text": [
      "{\"CEO\": \"Tim Cook\", \"CFO\": \"Luca Maestri\", \"company\": \"Apple\", \"dividend_payable_date\": \"November 16, 2023\", \"dividend_per_share\": \"$0.24\", \"dividend_record_date\": \"November 13, 2023\", \"earnings_call_date\": \"November 2, 2023\", \"earnings_call_time\": \"2:00 p.m. PT\", \"earnings_call_webcast\": \"apple.com/investor/earnings-call\", \"earnings_per_share\": \"$1.46\", \"earnings_per_share_change_year_over_year\": \"13%\", \"fiscal_year\": 2023, \"quarter\": \"Q4\", \"quarterly_revenue\": \"$89.5 billion\", \"revenue_change_year_over_year\": \"-1%\"}\n"
     ]
    }
   ],
   "source": [
    "js = json.dumps(j) #converting dict to str\n",
    "print(js)"
   ]
  },
  {
   "cell_type": "code",
   "execution_count": 10,
   "id": "a7f3d8a9-34c1-4145-8417-ec9fef664ba1",
   "metadata": {},
   "outputs": [
    {
     "name": "stdout",
     "output_type": "stream",
     "text": [
      "PLease convert the following JSON document enclosed in triple backticks into a quarterly eanrings report suitable for shareholders. \n",
      "\n",
      "\n",
      "```\n",
      "{\"CEO\": \"Tim Cook\", \"CFO\": \"Luca Maestri\", \"company\": \"Apple\", \"dividend_payable_date\": \"November 16, 2023\", \"dividend_per_share\": \"$0.24\", \"dividend_record_date\": \"November 13, 2023\", \"earnings_call_date\": \"November 2, 2023\", \"earnings_call_time\": \"2:00 p.m. PT\", \"earnings_call_webcast\": \"apple.com/investor/earnings-call\", \"earnings_per_share\": \"$1.46\", \"earnings_per_share_change_year_over_year\": \"13%\", \"fiscal_year\": 2023, \"quarter\": \"Q4\", \"quarterly_revenue\": \"$89.5 billion\", \"revenue_change_year_over_year\": \"-1%\"}\n",
      "```\n",
      "\n"
     ]
    }
   ],
   "source": [
    "prompt = f\"\"\"PLease convert the following JSON document enclosed in triple backticks into a quarterly \\\n",
    "eanrings report suitable for shareholders. \\n\\n\n",
    "```\n",
    "{js}\n",
    "```\n",
    "\"\"\"\n",
    "print(prompt)"
   ]
  },
  {
   "cell_type": "code",
   "execution_count": 11,
   "id": "5214491f-4e42-4b16-a47b-3d647833cc4d",
   "metadata": {},
   "outputs": [],
   "source": [
    "completion = complete(prompt)"
   ]
  },
  {
   "cell_type": "code",
   "execution_count": 12,
   "id": "924e0446-2163-4056-9956-74266166e71d",
   "metadata": {},
   "outputs": [
    {
     "data": {
      "text/plain": [
       "ChatCompletion(id='chatcmpl-ACmwaqOcGLXbMGtVl3ejVjjX3mVVb', choices=[Choice(finish_reason='stop', index=0, logprobs=None, message=ChatCompletionMessage(content='**Apple Inc. Quarterly Earnings Report - Q4 2023**\\n\\n**Date:** November 2, 2023  \\n**Time:** 2:00 p.m. PT  \\n**Webcast:** [apple.com/investor/earnings-call](https://apple.com/investor/earnings-call)\\n\\n**Executive Summary:**\\nApple Inc. (AAPL) reported its Q4 2023 earnings, showcasing a resilient performance amidst a challenging market environment. Under the leadership of CEO Tim Cook and CFO Luca Maestri, the company continues to focus on innovation and shareholder value.\\n\\n**Financial Highlights:**\\n- **Quarterly Revenue:** $89.5 billion  \\n  - **Year-over-Year Change:** -1%\\n- **Earnings Per Share (EPS):** $1.46  \\n  - **Year-over-Year Change:** +13%\\n\\n**Dividends:**\\n- **Dividend Payable Date:** November 16, 2023  \\n- **Dividend Record Date:** November 13, 2023  \\n- **Dividend Per Share:** $0.24\\n\\n**Outlook:**\\nDespite a slight decline in revenue compared to the previous year, Apple has demonstrated strong earnings growth on a per-share basis. The company remains committed to returning value to shareholders through dividends and strategic investments.\\n\\nWe invite all shareholders to join the earnings call for a detailed discussion on the results and future outlook. Thank you for your continued support.\\n\\n**Apple Inc.**  \\n**Fiscal Year:** 2023  \\n**Quarter:** Q4', refusal=None, role='assistant', function_call=None, tool_calls=None))], created=1727611440, model='gpt-4o-mini-2024-07-18', object='chat.completion', service_tier=None, system_fingerprint='fp_f85bea6784', usage=CompletionUsage(completion_tokens=310, prompt_tokens=237, total_tokens=547, completion_tokens_details=CompletionTokensDetails(reasoning_tokens=0)))"
      ]
     },
     "execution_count": 12,
     "metadata": {},
     "output_type": "execute_result"
    }
   ],
   "source": [
    "completion"
   ]
  },
  {
   "cell_type": "code",
   "execution_count": 13,
   "id": "f715ad7d-77c9-4a73-9fd8-bd6faafa7421",
   "metadata": {},
   "outputs": [],
   "source": [
    "def print_reponse(completion):\n",
    "    content = completion.choices[0].message.content\n",
    "    print(content)"
   ]
  },
  {
   "cell_type": "code",
   "execution_count": 14,
   "id": "54ab19e7-6a58-4c08-8ac7-b2ab663a1f72",
   "metadata": {},
   "outputs": [
    {
     "name": "stdout",
     "output_type": "stream",
     "text": [
      "**Apple Inc. Quarterly Earnings Report - Q4 2023**\n",
      "\n",
      "**Date:** November 2, 2023  \n",
      "**Time:** 2:00 p.m. PT  \n",
      "**Webcast:** [apple.com/investor/earnings-call](https://apple.com/investor/earnings-call)\n",
      "\n",
      "**Executive Summary:**\n",
      "Apple Inc. (AAPL) reported its Q4 2023 earnings, showcasing a resilient performance amidst a challenging market environment. Under the leadership of CEO Tim Cook and CFO Luca Maestri, the company continues to focus on innovation and shareholder value.\n",
      "\n",
      "**Financial Highlights:**\n",
      "- **Quarterly Revenue:** $89.5 billion  \n",
      "  - **Year-over-Year Change:** -1%\n",
      "- **Earnings Per Share (EPS):** $1.46  \n",
      "  - **Year-over-Year Change:** +13%\n",
      "\n",
      "**Dividends:**\n",
      "- **Dividend Payable Date:** November 16, 2023  \n",
      "- **Dividend Record Date:** November 13, 2023  \n",
      "- **Dividend Per Share:** $0.24\n",
      "\n",
      "**Outlook:**\n",
      "Despite a slight decline in revenue compared to the previous year, Apple has demonstrated strong earnings growth on a per-share basis. The company remains committed to returning value to shareholders through dividends and strategic investments.\n",
      "\n",
      "We invite all shareholders to join the earnings call for a detailed discussion on the results and future outlook. Thank you for your continued support.\n",
      "\n",
      "**Apple Inc.**  \n",
      "**Fiscal Year:** 2023  \n",
      "**Quarter:** Q4\n"
     ]
    }
   ],
   "source": [
    "print_reponse(completion)"
   ]
  },
  {
   "cell_type": "code",
   "execution_count": 16,
   "id": "17d5174d-c435-4e2e-9e96-b3ef00bae692",
   "metadata": {},
   "outputs": [
    {
     "data": {
      "text/markdown": [
       "**Apple Inc. Quarterly Earnings Report - Q4 2023**\n",
       "\n",
       "**Date:** November 2, 2023  \n",
       "**Time:** 2:00 p.m. PT  \n",
       "**Webcast:** [apple.com/investor/earnings-call](https://apple.com/investor/earnings-call)\n",
       "\n",
       "**Executive Summary:**\n",
       "Apple Inc. (AAPL) reported its Q4 2023 earnings, showcasing a resilient performance amidst a challenging market environment. Under the leadership of CEO Tim Cook and CFO Luca Maestri, the company continues to focus on innovation and shareholder value.\n",
       "\n",
       "**Financial Highlights:**\n",
       "- **Quarterly Revenue:** $89.5 billion  \n",
       "  - **Year-over-Year Change:** -1%\n",
       "- **Earnings Per Share (EPS):** $1.46  \n",
       "  - **Year-over-Year Change:** +13%\n",
       "\n",
       "**Dividends:**\n",
       "- **Dividend Payable Date:** November 16, 2023  \n",
       "- **Dividend Record Date:** November 13, 2023  \n",
       "- **Dividend Per Share:** $0.24\n",
       "\n",
       "**Outlook:**\n",
       "Despite a slight decline in revenue compared to the previous year, Apple has demonstrated strong earnings growth on a per-share basis. The company remains committed to returning value to shareholders through dividends and strategic investments.\n",
       "\n",
       "We invite all shareholders to join the earnings call for a detailed discussion on the results and future outlook. Thank you for your continued support.\n",
       "\n",
       "**Apple Inc.**  \n",
       "**Fiscal Year:** 2023  \n",
       "**Quarter:** Q4"
      ],
      "text/plain": [
       "<IPython.core.display.Markdown object>"
      ]
     },
     "metadata": {},
     "output_type": "display_data"
    }
   ],
   "source": [
    "from IPython.display import display, Markdown\n",
    "content = completion.choices[0].message.content\n",
    "display(Markdown(content))"
   ]
  },
  {
   "cell_type": "code",
   "execution_count": null,
   "id": "0ec5318e-2f7a-44b6-b39f-a3d4e76972f1",
   "metadata": {},
   "outputs": [],
   "source": []
  }
 ],
 "metadata": {
  "kernelspec": {
   "display_name": "Python 3 (ipykernel)",
   "language": "python",
   "name": "python3"
  },
  "language_info": {
   "codemirror_mode": {
    "name": "ipython",
    "version": 3
   },
   "file_extension": ".py",
   "mimetype": "text/x-python",
   "name": "python",
   "nbconvert_exporter": "python",
   "pygments_lexer": "ipython3",
   "version": "3.12.5"
  }
 },
 "nbformat": 4,
 "nbformat_minor": 5
}
