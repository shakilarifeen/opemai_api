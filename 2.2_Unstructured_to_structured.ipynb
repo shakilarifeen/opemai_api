{
 "cells": [
  {
   "cell_type": "code",
   "execution_count": 2,
   "id": "25d1abb6-d905-4bd2-8ec5-53a647ea0a48",
   "metadata": {},
   "outputs": [],
   "source": [
    "# returning JSON objects to program with\n",
    "from openai import OpenAI"
   ]
  },
  {
   "cell_type": "code",
   "execution_count": 3,
   "id": "71a657bd-e3c6-4fba-8fa8-878830e7f2e8",
   "metadata": {},
   "outputs": [],
   "source": [
    "client = OpenAI()"
   ]
  },
  {
   "cell_type": "code",
   "execution_count": 4,
   "id": "20ec17de-82d3-44ab-8374-45a91e9bd61b",
   "metadata": {},
   "outputs": [],
   "source": [
    "system_prompt = \"You are an assistant that returns only JSON objects with the requested information\""
   ]
  },
  {
   "cell_type": "code",
   "execution_count": 5,
   "id": "a303e693-5437-45ea-bfc7-b32c98ac7c80",
   "metadata": {},
   "outputs": [],
   "source": [
    "def complete(user_prompt):\n",
    "    completion = client.chat.completions.create(\n",
    "        model='gpt-4o-mini',\n",
    "        messages=[\n",
    "            {\"role\":\"system\", \"content\":system_prompt},\n",
    "            {\"role\":\"user\", \"content\":user_prompt},\n",
    "        ],\n",
    "        temperature=0,\n",
    "        max_tokens = 500,\n",
    "    )\n",
    "    return completion"
   ]
  },
  {
   "cell_type": "code",
   "execution_count": 6,
   "id": "8cd11ff7-6fbd-4273-9c92-158d326ff731",
   "metadata": {},
   "outputs": [],
   "source": [
    "prompt = \"Please return a JSON object about Albert Einstein. Include full name, birth date, date of death (if applicable)\" + \\\n",
    "\"and list of accomplishments\""
   ]
  },
  {
   "cell_type": "code",
   "execution_count": 7,
   "id": "71de02a4-48b5-46da-b8bc-aaeea8559c22",
   "metadata": {},
   "outputs": [],
   "source": [
    "completion = complete(prompt)"
   ]
  },
  {
   "cell_type": "code",
   "execution_count": 8,
   "id": "c1b949a9-a8a2-40f5-a785-4d275a619479",
   "metadata": {},
   "outputs": [
    {
     "data": {
      "text/plain": [
       "ChatCompletion(id='chatcmpl-ACi5dCbJrgPlLAHcjMA9K8Xey9X3F', choices=[Choice(finish_reason='stop', index=0, logprobs=None, message=ChatCompletionMessage(content='```json\\n{\\n  \"full_name\": \"Albert Einstein\",\\n  \"birth_date\": \"1879-03-14\",\\n  \"date_of_death\": \"1955-04-18\",\\n  \"accomplishments\": [\\n    \"Developed the theory of relativity, one of the two pillars of modern physics.\",\\n    \"Published the equation E=mc², which describes the equivalence of mass and energy.\",\\n    \"Won the Nobel Prize in Physics in 1921 for his explanation of the photoelectric effect.\",\\n    \"Contributed to the development of quantum mechanics.\",\\n    \"Made significant contributions to statistical mechanics and cosmology.\",\\n    \"Authored more than 300 scientific papers and over 150 non-scientific works.\",\\n    \"Was a prominent advocate for civil rights and pacifism.\"\\n  ]\\n}\\n```', refusal=None, role='assistant', function_call=None, tool_calls=None))], created=1727592781, model='gpt-4o-mini-2024-07-18', object='chat.completion', service_tier=None, system_fingerprint='fp_f85bea6784', usage=CompletionUsage(completion_tokens=169, prompt_tokens=51, total_tokens=220, completion_tokens_details=CompletionTokensDetails(reasoning_tokens=0)))"
      ]
     },
     "execution_count": 8,
     "metadata": {},
     "output_type": "execute_result"
    }
   ],
   "source": [
    "completion"
   ]
  },
  {
   "cell_type": "code",
   "execution_count": 12,
   "id": "b75da067-d19e-4227-a0cf-800c9314b2e7",
   "metadata": {},
   "outputs": [],
   "source": [
    "def get_response(completion):\n",
    "    content = completion.choices[0].message.content\n",
    "    return content"
   ]
  },
  {
   "cell_type": "code",
   "execution_count": 36,
   "id": "5bc1c482-02bd-47f0-b0e4-3903b5f69524",
   "metadata": {},
   "outputs": [
    {
     "name": "stdout",
     "output_type": "stream",
     "text": [
      "```json\n",
      "{\n",
      "  \"full_name\": \"Albert Einstein\",\n",
      "  \"birth_date\": \"1879-03-14\",\n",
      "  \"date_of_death\": \"1955-04-18\",\n",
      "  \"accomplishments\": [\n",
      "    \"Developed the theory of relativity, one of the two pillars of modern physics.\",\n",
      "    \"Published the equation E=mc², which describes the equivalence of mass and energy.\",\n",
      "    \"Won the Nobel Prize in Physics in 1921 for his explanation of the photoelectric effect.\",\n",
      "    \"Contributed to the development of quantum mechanics.\",\n",
      "    \"Made significant contributions to statistical mechanics and cosmology.\",\n",
      "    \"Authored more than 300 scientific papers and over 150 non-scientific works.\",\n",
      "    \"Was a prominent advocate for civil rights and pacifism.\"\n",
      "  ]\n",
      "}\n",
      "```\n"
     ]
    }
   ],
   "source": [
    "print(get_response(completion))"
   ]
  },
  {
   "cell_type": "code",
   "execution_count": 37,
   "id": "c8c3fd6c-5436-4c00-9a82-666fef9dae22",
   "metadata": {},
   "outputs": [],
   "source": [
    "import json"
   ]
  },
  {
   "cell_type": "code",
   "execution_count": 43,
   "id": "70593922-fe62-4c2e-b79d-1c5a499a7a24",
   "metadata": {},
   "outputs": [],
   "source": [
    "data = get_reponse(completion)\n",
    "data1 = data.strip(\"```json\").strip(\"```\")"
   ]
  },
  {
   "cell_type": "code",
   "execution_count": 44,
   "id": "588f55fa-c4cf-485b-812d-64a4fb1e616e",
   "metadata": {},
   "outputs": [
    {
     "name": "stdout",
     "output_type": "stream",
     "text": [
      "\n",
      "{\n",
      "  \"full_name\": \"Albert Einstein\",\n",
      "  \"birth_date\": \"1879-03-14\",\n",
      "  \"date_of_death\": \"1955-04-18\",\n",
      "  \"accomplishments\": [\n",
      "    \"Developed the theory of relativity, one of the two pillars of modern physics.\",\n",
      "    \"Published the equation E=mc², which describes the equivalence of mass and energy.\",\n",
      "    \"Won the Nobel Prize in Physics in 1921 for his explanation of the photoelectric effect.\",\n",
      "    \"Contributed to the development of quantum mechanics.\",\n",
      "    \"Made significant contributions to statistical mechanics and cosmology.\",\n",
      "    \"Authored more than 300 scientific papers and over 150 non-scientific works.\",\n",
      "    \"Was a prominent advocate for civil rights and pacifism.\"\n",
      "  ]\n",
      "}\n",
      "\n"
     ]
    }
   ],
   "source": [
    "print(data1)"
   ]
  },
  {
   "cell_type": "code",
   "execution_count": 45,
   "id": "c39f57d9-0f90-4303-ad0c-2abbbb3a8730",
   "metadata": {},
   "outputs": [],
   "source": [
    "j = json.loads(data1)"
   ]
  },
  {
   "cell_type": "code",
   "execution_count": 46,
   "id": "5a191d03-135d-4f5f-878a-9fb9845d5fcd",
   "metadata": {},
   "outputs": [
    {
     "data": {
      "text/plain": [
       "{'full_name': 'Albert Einstein',\n",
       " 'birth_date': '1879-03-14',\n",
       " 'date_of_death': '1955-04-18',\n",
       " 'accomplishments': ['Developed the theory of relativity, one of the two pillars of modern physics.',\n",
       "  'Published the equation E=mc², which describes the equivalence of mass and energy.',\n",
       "  'Won the Nobel Prize in Physics in 1921 for his explanation of the photoelectric effect.',\n",
       "  'Contributed to the development of quantum mechanics.',\n",
       "  'Made significant contributions to statistical mechanics and cosmology.',\n",
       "  'Authored more than 300 scientific papers and over 150 non-scientific works.',\n",
       "  'Was a prominent advocate for civil rights and pacifism.']}"
      ]
     },
     "execution_count": 46,
     "metadata": {},
     "output_type": "execute_result"
    }
   ],
   "source": [
    "j"
   ]
  },
  {
   "cell_type": "code",
   "execution_count": 53,
   "id": "12ee7804-7d5d-4bfe-ad9e-a818f1270b1c",
   "metadata": {},
   "outputs": [],
   "source": [
    "# creating a function that would do the same to any person\n",
    "def get_person(name):\n",
    "    prompt = f\"please return a JSON object about {name}. Include full name, birthdate, date of death (if applicable), \" + \\\n",
    "    \"and list of accomplishments.\"\n",
    "    completion = complete(prompt)\n",
    "    data = get_reponse(completion)\n",
    "    data1 = data.strip(\"```json\").strip(\"```\")\n",
    "    j = json.loads(data1)\n",
    "    return j"
   ]
  },
  {
   "cell_type": "code",
   "execution_count": 54,
   "id": "326a1f0b-522b-45d8-9d20-f91743ee3ba8",
   "metadata": {},
   "outputs": [],
   "source": [
    "j = get_person(\"Steve Jobs\")"
   ]
  },
  {
   "cell_type": "code",
   "execution_count": 55,
   "id": "865c7aeb-0b35-4b25-826a-8637479f9ca9",
   "metadata": {},
   "outputs": [
    {
     "name": "stdout",
     "output_type": "stream",
     "text": [
      "{'full_name': 'Steven Paul Jobs', 'birthdate': '1955-02-24', 'date_of_death': '2011-10-05', 'accomplishments': ['Co-founder of Apple Inc.', 'Co-founder of NeXT Inc.', 'CEO of Pixar Animation Studios', 'Key figure in the development of the Macintosh computer', 'Pioneered the development of the iPod, iPhone, and iPad', 'Instrumental in the creation of the App Store', 'Introduced the concept of digital music distribution with iTunes', 'Revitalized Apple Inc. in the late 1990s and early 2000s']}\n"
     ]
    }
   ],
   "source": [
    "print(j)"
   ]
  },
  {
   "cell_type": "code",
   "execution_count": 56,
   "id": "96ebae98-04ff-4f63-a885-d3c83b84ccbf",
   "metadata": {},
   "outputs": [],
   "source": [
    "from pprint import pprint"
   ]
  },
  {
   "cell_type": "code",
   "execution_count": 57,
   "id": "72ac91c0-e4b0-4ee8-bea1-4392014bfc3e",
   "metadata": {},
   "outputs": [
    {
     "name": "stdout",
     "output_type": "stream",
     "text": [
      "{'accomplishments': ['Co-founder of Apple Inc.',\n",
      "                     'Co-founder of NeXT Inc.',\n",
      "                     'CEO of Pixar Animation Studios',\n",
      "                     'Key figure in the development of the Macintosh computer',\n",
      "                     'Pioneered the development of the iPod, iPhone, and iPad',\n",
      "                     'Instrumental in the creation of the App Store',\n",
      "                     'Introduced the concept of digital music distribution '\n",
      "                     'with iTunes',\n",
      "                     'Revitalized Apple Inc. in the late 1990s and early '\n",
      "                     '2000s'],\n",
      " 'birthdate': '1955-02-24',\n",
      " 'date_of_death': '2011-10-05',\n",
      " 'full_name': 'Steven Paul Jobs'}\n"
     ]
    }
   ],
   "source": [
    "pprint(j)"
   ]
  },
  {
   "cell_type": "code",
   "execution_count": 61,
   "id": "d8e067a1-2bd0-4998-a144-5cc7e24eed34",
   "metadata": {},
   "outputs": [],
   "source": [
    "report = '''During the first quarter of 2023, Apple Inc., under the leadership of CEO Tim Cook, reported earnings that highlighted both the company's resilience and the challenges it faced in a shifting global economy. The fiscal year 2023 started off with an earnings call that took place on the 25th of January, in which Apple's senior executives, including Tim Cook, discussed their financial performance and strategic vision moving forward. Investors were particularly interested in the earnings per share (EPS), which was revealed to be around $1.30 for this quarter—a figure that demonstrated the company's continued profitability despite certain headwinds. Alongside this, Apple announced that the dividend record date for the quarter was February 10, with dividends scheduled to be paid out to shareholders on the 16th of February.\n",
    "\n",
    "When it comes to the company's overall revenue, Apple disclosed that they had managed to generate a total of $117.2 billion in the first quarter alone. This represented a year-over-year decline of approximately 5%, attributed in part to supply chain issues that affected their ability to meet the growing demand for their products. Nevertheless, the company maintained strong profitability, with a net income of $27.9 billion, showcasing Apple's ability to manage costs effectively even in a challenging environment. The earnings call, which was held at 5:00 PM Eastern Time, also revealed the continued dominance of the iPhone in Apple's product lineup. iPhone sales accounted for $65.2 billion of the total revenue—a significant portion that once again underscored the device's importance to the company’s financial health.\n",
    "\n",
    "In terms of the other sectors of the business, Apple’s services division also performed notably well, contributing $22.9 billion to the overall revenue. This growth in services, driven by offerings such as Apple Music, iCloud, and the App Store, continued to be a bright spot in the company’s earnings. Despite some difficulties in other areas, the wearables, home, and accessories division posted solid results, generating $13.5 billion, an 8% increase compared to the same period in the prior fiscal year. Mac sales, however, struggled due to supply chain constraints, only managing to bring in $9.6 billion. This was a noticeable drop as consumers and businesses alike faced delays in getting their hands on new hardware.\n",
    "\n",
    "The fiscal year is off to an interesting start, and Apple’s Q1 results reflect both the challenges and opportunities the company is navigating. While there is optimism around the services segment and the iPhone’s robust performance, questions remain about how ongoing supply chain disruptions and inflationary pressures might affect future quarters. Investors will be closely watching the company as it continues to execute its strategic plans for 2023.'''"
   ]
  },
  {
   "cell_type": "code",
   "execution_count": 62,
   "id": "b34ebc12-b923-482f-8f1d-bd3ed706f91a",
   "metadata": {},
   "outputs": [],
   "source": [
    "prompt = f\"Please pull important information from below report enclosed in triple backticks \\n```\\n{report}\\n``` \\\n",
    "include the keys ceo, company, dividend_record_date, earnings_call_date, earnings_call_time. earnings_per_share, fiscal_year.\""
   ]
  },
  {
   "cell_type": "code",
   "execution_count": 65,
   "id": "4f7bdc48-0c11-4b06-b7f0-dc26fae32b74",
   "metadata": {},
   "outputs": [
    {
     "data": {
      "text/plain": [
       "ChatCompletion(id='chatcmpl-ACmbuxO6C4vliuqXsU5mUHWMjVtE8', choices=[Choice(finish_reason='stop', index=0, logprobs=None, message=ChatCompletionMessage(content='```json\\n{\\n  \"ceo\": \"Tim Cook\",\\n  \"company\": \"Apple Inc.\",\\n  \"dividend_record_date\": \"February 10, 2023\",\\n  \"earnings_call_date\": \"January 25, 2023\",\\n  \"earnings_call_time\": \"5:00 PM Eastern Time\",\\n  \"earnings_per_share\": 1.30,\\n  \"fiscal_year\": 2023\\n}\\n```', refusal=None, role='assistant', function_call=None, tool_calls=None))], created=1727610158, model='gpt-4o-mini-2024-07-18', object='chat.completion', service_tier=None, system_fingerprint='fp_f85bea6784', usage=CompletionUsage(completion_tokens=92, prompt_tokens=611, total_tokens=703, completion_tokens_details=CompletionTokensDetails(reasoning_tokens=0)))"
      ]
     },
     "execution_count": 65,
     "metadata": {},
     "output_type": "execute_result"
    }
   ],
   "source": [
    "completion = complete(prompt)\n",
    "completion"
   ]
  },
  {
   "cell_type": "code",
   "execution_count": 67,
   "id": "ee490aab-1fbc-41f7-8c49-d7e769b7e806",
   "metadata": {},
   "outputs": [],
   "source": [
    "data = get_response(completion)\n",
    "data1 = data.strip(\"```json\").strip(\"```\")\n",
    "j = json.loads(data1)"
   ]
  },
  {
   "cell_type": "code",
   "execution_count": 68,
   "id": "9767b285-bd7e-4cb9-838f-84931ae250db",
   "metadata": {},
   "outputs": [
    {
     "name": "stdout",
     "output_type": "stream",
     "text": [
      "{'ceo': 'Tim Cook',\n",
      " 'company': 'Apple Inc.',\n",
      " 'dividend_record_date': 'February 10, 2023',\n",
      " 'earnings_call_date': 'January 25, 2023',\n",
      " 'earnings_call_time': '5:00 PM Eastern Time',\n",
      " 'earnings_per_share': 1.3,\n",
      " 'fiscal_year': 2023}\n"
     ]
    }
   ],
   "source": [
    "pprint(j)"
   ]
  },
  {
   "cell_type": "code",
   "execution_count": null,
   "id": "df26e960-84b7-4b86-876d-f2bea5e96ffa",
   "metadata": {},
   "outputs": [],
   "source": []
  }
 ],
 "metadata": {
  "kernelspec": {
   "display_name": "Python 3 (ipykernel)",
   "language": "python",
   "name": "python3"
  },
  "language_info": {
   "codemirror_mode": {
    "name": "ipython",
    "version": 3
   },
   "file_extension": ".py",
   "mimetype": "text/x-python",
   "name": "python",
   "nbconvert_exporter": "python",
   "pygments_lexer": "ipython3",
   "version": "3.12.5"
  }
 },
 "nbformat": 4,
 "nbformat_minor": 5
}
