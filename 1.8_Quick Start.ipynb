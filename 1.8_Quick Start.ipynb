{
 "cells": [
  {
   "cell_type": "code",
   "execution_count": 1,
   "id": "9044887b-3a1f-4161-8198-5559346376d4",
   "metadata": {},
   "outputs": [],
   "source": [
    "from openai import OpenAI"
   ]
  },
  {
   "cell_type": "code",
   "execution_count": null,
   "id": "4c30d41a-82c3-45b2-9fbe-4a063352d02c",
   "metadata": {},
   "outputs": [],
   "source": [
    "# To utlize the API Key to run the program\n",
    "# Windows command line: setx OPENAI_API_KEY \"api key\""
   ]
  },
  {
   "cell_type": "code",
   "execution_count": 2,
   "id": "f90cc1b2-47f5-43db-bde9-48b5a7fba1f2",
   "metadata": {},
   "outputs": [],
   "source": [
    "client = OpenAI()"
   ]
  },
  {
   "cell_type": "code",
   "execution_count": 4,
   "id": "13eef418-19bc-4970-98d1-08eb32a8e3a1",
   "metadata": {},
   "outputs": [],
   "source": [
    "completion = client.chat.completions.create(\n",
    "    model='gpt-4o-mini',\n",
    "    messages= [\n",
    "        {\"role\":\"system\", \"content\":\"You are a poetic assistant, skilled in explaining complex programming concepts with creative flair\"},\n",
    "        {\"role\":\"user\", \"content\":\"Compose a poem that explains the concept of recursion in programming\"}\n",
    "    ]\n",
    ")"
   ]
  },
  {
   "cell_type": "code",
   "execution_count": 5,
   "id": "6aac05b2-5392-4c4a-a984-73b8138d73cd",
   "metadata": {},
   "outputs": [
    {
     "data": {
      "text/plain": [
       "ChatCompletion(id='chatcmpl-ACLqkUoh01t8J8XWPmY09oMXv3Vcy', choices=[Choice(finish_reason='stop', index=0, logprobs=None, message=ChatCompletionMessage(content='In the realm of code, where logic entwines,  \\nA curious concept within structure shines.  \\nRecursion, a dance of functions so bold,  \\nWhere a call leads to calls, a tale to unfold.  \\n\\nImagine a mirror, reflecting its face,  \\nYet deeper it goes, in an infinite space.  \\nA function you write, with purpose and grace,  \\nCalls forth itself, in a never-ending race.  \\n\\n\"Base case,\" it whispers, \"let me find rest,  \\nFor without a stopping point, we’ll never find zest.\"  \\nIt’s crucial to anchor, to know when to cease,  \\nTo prevent an abyss, where chaos won’t cease.  \\n\\nPicture the numbers, the factorial’s flight:  \\nFive! Oh, it calls to four with delight.  \\n“Four is but three times four, but with less,”  \\nNesting within until counting finds rest.  \\n\\nIn trees of decision, where branches extend,  \\nEach path leading deeper, a function will send.  \\nLike leaves on a bough, each a function\\'s call,  \\nRecursion reveals how to conquer it all.  \\n\\nSo embrace this sweet cycle, with beauty aligned,  \\nA loop in the fabric of logic combined.  \\nFor in recursion’s heart, creativity flows,  \\nIn the depths of your code, let this magic compose.  ', refusal=None, role='assistant', function_call=None, tool_calls=None))], created=1727507290, model='gpt-4o-mini-2024-07-18', object='chat.completion', service_tier=None, system_fingerprint='fp_f85bea6784', usage=CompletionUsage(completion_tokens=271, prompt_tokens=37, total_tokens=308, completion_tokens_details=CompletionTokensDetails(reasoning_tokens=0)))"
      ]
     },
     "execution_count": 5,
     "metadata": {},
     "output_type": "execute_result"
    }
   ],
   "source": [
    "completion"
   ]
  },
  {
   "cell_type": "code",
   "execution_count": 6,
   "id": "c95ec052-6af9-4400-94cf-e2115df4bb7d",
   "metadata": {},
   "outputs": [
    {
     "data": {
      "text/plain": [
       "'chatcmpl-ACLqkUoh01t8J8XWPmY09oMXv3Vcy'"
      ]
     },
     "execution_count": 6,
     "metadata": {},
     "output_type": "execute_result"
    }
   ],
   "source": [
    "completion.id"
   ]
  },
  {
   "cell_type": "code",
   "execution_count": 7,
   "id": "1e6d9e5b-ff13-42f4-aae2-35c0b1e9cdb6",
   "metadata": {},
   "outputs": [
    {
     "data": {
      "text/plain": [
       "[Choice(finish_reason='stop', index=0, logprobs=None, message=ChatCompletionMessage(content='In the realm of code, where logic entwines,  \\nA curious concept within structure shines.  \\nRecursion, a dance of functions so bold,  \\nWhere a call leads to calls, a tale to unfold.  \\n\\nImagine a mirror, reflecting its face,  \\nYet deeper it goes, in an infinite space.  \\nA function you write, with purpose and grace,  \\nCalls forth itself, in a never-ending race.  \\n\\n\"Base case,\" it whispers, \"let me find rest,  \\nFor without a stopping point, we’ll never find zest.\"  \\nIt’s crucial to anchor, to know when to cease,  \\nTo prevent an abyss, where chaos won’t cease.  \\n\\nPicture the numbers, the factorial’s flight:  \\nFive! Oh, it calls to four with delight.  \\n“Four is but three times four, but with less,”  \\nNesting within until counting finds rest.  \\n\\nIn trees of decision, where branches extend,  \\nEach path leading deeper, a function will send.  \\nLike leaves on a bough, each a function\\'s call,  \\nRecursion reveals how to conquer it all.  \\n\\nSo embrace this sweet cycle, with beauty aligned,  \\nA loop in the fabric of logic combined.  \\nFor in recursion’s heart, creativity flows,  \\nIn the depths of your code, let this magic compose.  ', refusal=None, role='assistant', function_call=None, tool_calls=None))]"
      ]
     },
     "execution_count": 7,
     "metadata": {},
     "output_type": "execute_result"
    }
   ],
   "source": [
    "completion.choices"
   ]
  },
  {
   "cell_type": "code",
   "execution_count": 8,
   "id": "174ad440-f11d-4a1f-927d-450bc5e4c7f1",
   "metadata": {},
   "outputs": [
    {
     "data": {
      "text/plain": [
       "1"
      ]
     },
     "execution_count": 8,
     "metadata": {},
     "output_type": "execute_result"
    }
   ],
   "source": [
    "len(completion.choices)"
   ]
  },
  {
   "cell_type": "code",
   "execution_count": 9,
   "id": "b85d5ddf-7622-4445-b515-dbf758291621",
   "metadata": {},
   "outputs": [
    {
     "data": {
      "text/plain": [
       "Choice(finish_reason='stop', index=0, logprobs=None, message=ChatCompletionMessage(content='In the realm of code, where logic entwines,  \\nA curious concept within structure shines.  \\nRecursion, a dance of functions so bold,  \\nWhere a call leads to calls, a tale to unfold.  \\n\\nImagine a mirror, reflecting its face,  \\nYet deeper it goes, in an infinite space.  \\nA function you write, with purpose and grace,  \\nCalls forth itself, in a never-ending race.  \\n\\n\"Base case,\" it whispers, \"let me find rest,  \\nFor without a stopping point, we’ll never find zest.\"  \\nIt’s crucial to anchor, to know when to cease,  \\nTo prevent an abyss, where chaos won’t cease.  \\n\\nPicture the numbers, the factorial’s flight:  \\nFive! Oh, it calls to four with delight.  \\n“Four is but three times four, but with less,”  \\nNesting within until counting finds rest.  \\n\\nIn trees of decision, where branches extend,  \\nEach path leading deeper, a function will send.  \\nLike leaves on a bough, each a function\\'s call,  \\nRecursion reveals how to conquer it all.  \\n\\nSo embrace this sweet cycle, with beauty aligned,  \\nA loop in the fabric of logic combined.  \\nFor in recursion’s heart, creativity flows,  \\nIn the depths of your code, let this magic compose.  ', refusal=None, role='assistant', function_call=None, tool_calls=None))"
      ]
     },
     "execution_count": 9,
     "metadata": {},
     "output_type": "execute_result"
    }
   ],
   "source": [
    "choice = completion.choices[0]\n",
    "choice"
   ]
  },
  {
   "cell_type": "code",
   "execution_count": 10,
   "id": "6e5b14c1-24b8-4575-a169-58c6b1cc9e75",
   "metadata": {},
   "outputs": [
    {
     "data": {
      "text/plain": [
       "ChatCompletionMessage(content='In the realm of code, where logic entwines,  \\nA curious concept within structure shines.  \\nRecursion, a dance of functions so bold,  \\nWhere a call leads to calls, a tale to unfold.  \\n\\nImagine a mirror, reflecting its face,  \\nYet deeper it goes, in an infinite space.  \\nA function you write, with purpose and grace,  \\nCalls forth itself, in a never-ending race.  \\n\\n\"Base case,\" it whispers, \"let me find rest,  \\nFor without a stopping point, we’ll never find zest.\"  \\nIt’s crucial to anchor, to know when to cease,  \\nTo prevent an abyss, where chaos won’t cease.  \\n\\nPicture the numbers, the factorial’s flight:  \\nFive! Oh, it calls to four with delight.  \\n“Four is but three times four, but with less,”  \\nNesting within until counting finds rest.  \\n\\nIn trees of decision, where branches extend,  \\nEach path leading deeper, a function will send.  \\nLike leaves on a bough, each a function\\'s call,  \\nRecursion reveals how to conquer it all.  \\n\\nSo embrace this sweet cycle, with beauty aligned,  \\nA loop in the fabric of logic combined.  \\nFor in recursion’s heart, creativity flows,  \\nIn the depths of your code, let this magic compose.  ', refusal=None, role='assistant', function_call=None, tool_calls=None)"
      ]
     },
     "execution_count": 10,
     "metadata": {},
     "output_type": "execute_result"
    }
   ],
   "source": [
    "choice.message"
   ]
  },
  {
   "cell_type": "code",
   "execution_count": 12,
   "id": "44b163f0-cc72-453f-bbce-0d9629147cef",
   "metadata": {},
   "outputs": [
    {
     "data": {
      "text/plain": [
       "'In the realm of code, where logic entwines,  \\nA curious concept within structure shines.  \\nRecursion, a dance of functions so bold,  \\nWhere a call leads to calls, a tale to unfold.  \\n\\nImagine a mirror, reflecting its face,  \\nYet deeper it goes, in an infinite space.  \\nA function you write, with purpose and grace,  \\nCalls forth itself, in a never-ending race.  \\n\\n\"Base case,\" it whispers, \"let me find rest,  \\nFor without a stopping point, we’ll never find zest.\"  \\nIt’s crucial to anchor, to know when to cease,  \\nTo prevent an abyss, where chaos won’t cease.  \\n\\nPicture the numbers, the factorial’s flight:  \\nFive! Oh, it calls to four with delight.  \\n“Four is but three times four, but with less,”  \\nNesting within until counting finds rest.  \\n\\nIn trees of decision, where branches extend,  \\nEach path leading deeper, a function will send.  \\nLike leaves on a bough, each a function\\'s call,  \\nRecursion reveals how to conquer it all.  \\n\\nSo embrace this sweet cycle, with beauty aligned,  \\nA loop in the fabric of logic combined.  \\nFor in recursion’s heart, creativity flows,  \\nIn the depths of your code, let this magic compose.  '"
      ]
     },
     "execution_count": 12,
     "metadata": {},
     "output_type": "execute_result"
    }
   ],
   "source": [
    "choice.message.content"
   ]
  },
  {
   "cell_type": "code",
   "execution_count": 13,
   "id": "654b77fd-4a01-430d-b5e5-4c88c0a01ebe",
   "metadata": {},
   "outputs": [
    {
     "name": "stdout",
     "output_type": "stream",
     "text": [
      "In the realm of code, where logic entwines,  \n",
      "A curious concept within structure shines.  \n",
      "Recursion, a dance of functions so bold,  \n",
      "Where a call leads to calls, a tale to unfold.  \n",
      "\n",
      "Imagine a mirror, reflecting its face,  \n",
      "Yet deeper it goes, in an infinite space.  \n",
      "A function you write, with purpose and grace,  \n",
      "Calls forth itself, in a never-ending race.  \n",
      "\n",
      "\"Base case,\" it whispers, \"let me find rest,  \n",
      "For without a stopping point, we’ll never find zest.\"  \n",
      "It’s crucial to anchor, to know when to cease,  \n",
      "To prevent an abyss, where chaos won’t cease.  \n",
      "\n",
      "Picture the numbers, the factorial’s flight:  \n",
      "Five! Oh, it calls to four with delight.  \n",
      "“Four is but three times four, but with less,”  \n",
      "Nesting within until counting finds rest.  \n",
      "\n",
      "In trees of decision, where branches extend,  \n",
      "Each path leading deeper, a function will send.  \n",
      "Like leaves on a bough, each a function's call,  \n",
      "Recursion reveals how to conquer it all.  \n",
      "\n",
      "So embrace this sweet cycle, with beauty aligned,  \n",
      "A loop in the fabric of logic combined.  \n",
      "For in recursion’s heart, creativity flows,  \n",
      "In the depths of your code, let this magic compose.  \n"
     ]
    }
   ],
   "source": [
    "print(choice.message.content)"
   ]
  },
  {
   "cell_type": "code",
   "execution_count": null,
   "id": "8d1c2f21-f965-4bea-9c00-f9563b87a0ec",
   "metadata": {},
   "outputs": [],
   "source": []
  }
 ],
 "metadata": {
  "kernelspec": {
   "display_name": "Python 3 (ipykernel)",
   "language": "python",
   "name": "python3"
  },
  "language_info": {
   "codemirror_mode": {
    "name": "ipython",
    "version": 3
   },
   "file_extension": ".py",
   "mimetype": "text/x-python",
   "name": "python",
   "nbconvert_exporter": "python",
   "pygments_lexer": "ipython3",
   "version": "3.12.5"
  }
 },
 "nbformat": 4,
 "nbformat_minor": 5
}
