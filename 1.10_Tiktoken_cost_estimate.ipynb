{
 "cells": [
  {
   "cell_type": "code",
   "execution_count": 1,
   "id": "337ebeb5-5310-4dc3-921c-e8df75dcddb1",
   "metadata": {},
   "outputs": [],
   "source": [
    "import tiktoken"
   ]
  },
  {
   "cell_type": "code",
   "execution_count": 3,
   "id": "424773f7-9c88-4b21-a885-66952b10ee76",
   "metadata": {},
   "outputs": [
    {
     "data": {
      "text/plain": [
       "<Encoding 'o200k_base'>"
      ]
     },
     "execution_count": 3,
     "metadata": {},
     "output_type": "execute_result"
    }
   ],
   "source": [
    "encoding = tiktoken.encoding_for_model(\"gpt-4o-mini\")\n",
    "encoding"
   ]
  },
  {
   "cell_type": "code",
   "execution_count": 4,
   "id": "009aea0f-6491-4fbb-bc3a-afa9532db14e",
   "metadata": {},
   "outputs": [],
   "source": [
    "text = \"I'm taking the lazy programmer's latest AI course!\""
   ]
  },
  {
   "cell_type": "code",
   "execution_count": 6,
   "id": "2b1c47bb-c528-4976-b852-1f454f91513b",
   "metadata": {},
   "outputs": [
    {
     "data": {
      "text/plain": [
       "[15390, 6167, 290, 29082, 72896, 885, 6898, 20837, 4165, 0]"
      ]
     },
     "execution_count": 6,
     "metadata": {},
     "output_type": "execute_result"
    }
   ],
   "source": [
    "ints = encoding.encode(text)\n",
    "ints"
   ]
  },
  {
   "cell_type": "code",
   "execution_count": 9,
   "id": "e2c26576-0296-491d-976d-d3f073f3e615",
   "metadata": {},
   "outputs": [
    {
     "data": {
      "text/plain": [
       "[b\"I'm\",\n",
       " b' taking',\n",
       " b' the',\n",
       " b' lazy',\n",
       " b' programmer',\n",
       " b\"'s\",\n",
       " b' latest',\n",
       " b' AI',\n",
       " b' course',\n",
       " b'!']"
      ]
     },
     "execution_count": 9,
     "metadata": {},
     "output_type": "execute_result"
    }
   ],
   "source": [
    "tokens = [encoding.decode_single_token_bytes(i) for i in ints]\n",
    "tokens"
   ]
  },
  {
   "cell_type": "code",
   "execution_count": 10,
   "id": "108a685e-d293-4be4-a604-15089942d947",
   "metadata": {},
   "outputs": [],
   "source": [
    "from openai import OpenAI"
   ]
  },
  {
   "cell_type": "code",
   "execution_count": 11,
   "id": "78c30c5c-7e50-4b9b-8c85-5b7bfb252a03",
   "metadata": {},
   "outputs": [],
   "source": [
    "prompt = \"Who is the lazy programmer, the online course creator?\""
   ]
  },
  {
   "cell_type": "code",
   "execution_count": 12,
   "id": "58b7f620-8d09-4231-bfc6-6c9e6c7a1ff9",
   "metadata": {},
   "outputs": [],
   "source": [
    "ints = encoding.encode(prompt)"
   ]
  },
  {
   "cell_type": "code",
   "execution_count": 14,
   "id": "2dd59b33-3af4-4c85-90bd-83ab73a74a11",
   "metadata": {},
   "outputs": [],
   "source": [
    "client = OpenAI()\n",
    "\n",
    "completion = client.chat.completions.create(\n",
    "    model = 'gpt-4o-mini',\n",
    "    messages = [\n",
    "        {\"role\":\"user\", \"content\":prompt}],\n",
    "    temperature=0,\n",
    "    max_tokens=200,\n",
    "    seed=42,\n",
    ")"
   ]
  },
  {
   "cell_type": "code",
   "execution_count": 15,
   "id": "3e1441bf-34c9-464c-85f8-6a9176cc4c77",
   "metadata": {},
   "outputs": [
    {
     "data": {
      "text/plain": [
       "ChatCompletion(id='chatcmpl-ACMwqCbDwl6Phru2XN9FfXbOLeZCJ', choices=[Choice(finish_reason='stop', index=0, logprobs=None, message=ChatCompletionMessage(content='The \"lazy programmer\" is a term often used to describe someone who seeks to automate repetitive tasks or simplify complex processes, particularly in programming and software development. In the context of online course creation, it could refer to an individual who leverages technology and tools to streamline the course creation process, making it easier and more efficient.\\n\\nThis person might focus on creating high-quality content while minimizing the time and effort spent on tasks that can be automated, such as video editing, content delivery, or student management. They may use platforms that offer templates, automation features, and other resources to help them create and sell their courses with less manual effort.\\n\\nIf you\\'re looking for a specific individual known as \"the lazy programmer\" in the online course space, it might refer to a particular educator or influencer who has branded themselves with that title. However, without more context, it\\'s difficult to pinpoint a specific person. If you have a particular course or creator in mind, please provide more details!', refusal=None, role='assistant', function_call=None, tool_calls=None))], created=1727511512, model='gpt-4o-mini-2024-07-18', object='chat.completion', service_tier=None, system_fingerprint='fp_f85bea6784', usage=CompletionUsage(completion_tokens=194, prompt_tokens=18, total_tokens=212, completion_tokens_details=CompletionTokensDetails(reasoning_tokens=0)))"
      ]
     },
     "execution_count": 15,
     "metadata": {},
     "output_type": "execute_result"
    }
   ],
   "source": [
    "completion"
   ]
  },
  {
   "cell_type": "code",
   "execution_count": 17,
   "id": "ee52d2e2-657d-4b55-b56a-6b81bb3f8f5a",
   "metadata": {},
   "outputs": [
    {
     "name": "stdout",
     "output_type": "stream",
     "text": [
      "The \"lazy programmer\" is a term often used to describe someone who seeks to automate repetitive tasks or simplify complex processes, particularly in programming and software development. In the context of online course creation, it could refer to an individual who leverages technology and tools to streamline the course creation process, making it easier and more efficient.\n",
      "\n",
      "This person might focus on creating high-quality content while minimizing the time and effort spent on tasks that can be automated, such as video editing, content delivery, or student management. They may use platforms that offer templates, automation features, and other resources to help them create and sell their courses with less manual effort.\n",
      "\n",
      "If you're looking for a specific individual known as \"the lazy programmer\" in the online course space, it might refer to a particular educator or influencer who has branded themselves with that title. However, without more context, it's difficult to pinpoint a specific person. If you have a particular course or creator in mind, please provide more details!\n"
     ]
    }
   ],
   "source": [
    "print(completion.choices[0].message.content)"
   ]
  },
  {
   "cell_type": "code",
   "execution_count": 18,
   "id": "df6981df-3b12-4b02-b364-ffcabc08b1ec",
   "metadata": {},
   "outputs": [
    {
     "data": {
      "text/plain": [
       "CompletionUsage(completion_tokens=194, prompt_tokens=18, total_tokens=212, completion_tokens_details=CompletionTokensDetails(reasoning_tokens=0))"
      ]
     },
     "execution_count": 18,
     "metadata": {},
     "output_type": "execute_result"
    }
   ],
   "source": [
    "completion.usage"
   ]
  },
  {
   "cell_type": "code",
   "execution_count": null,
   "id": "9f9a6ecb-b525-434f-8638-525335eca41d",
   "metadata": {},
   "outputs": [],
   "source": []
  }
 ],
 "metadata": {
  "kernelspec": {
   "display_name": "Python 3 (ipykernel)",
   "language": "python",
   "name": "python3"
  },
  "language_info": {
   "codemirror_mode": {
    "name": "ipython",
    "version": 3
   },
   "file_extension": ".py",
   "mimetype": "text/x-python",
   "name": "python",
   "nbconvert_exporter": "python",
   "pygments_lexer": "ipython3",
   "version": "3.12.5"
  }
 },
 "nbformat": 4,
 "nbformat_minor": 5
}
