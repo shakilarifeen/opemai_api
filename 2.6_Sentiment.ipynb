{
 "cells": [
  {
   "cell_type": "code",
   "execution_count": 1,
   "id": "7b238512-abf6-42ee-8cba-79caef678f8e",
   "metadata": {},
   "outputs": [],
   "source": [
    "from openai import OpenAI"
   ]
  },
  {
   "cell_type": "code",
   "execution_count": 2,
   "id": "af8757d2-bc4a-4c93-8aa7-370ad01908b1",
   "metadata": {},
   "outputs": [],
   "source": [
    "client = OpenAI()"
   ]
  },
  {
   "cell_type": "code",
   "execution_count": 3,
   "id": "803367e7-7db2-4859-98dd-7578a375aa37",
   "metadata": {},
   "outputs": [],
   "source": [
    "system_prompt = \"You are a helpful assistant only with expert-level emotional intelligence. \\\n",
    "You reply with only -1, 0 or 1, where 1 means positive sentiment and -1 means negative sentiment \\\n",
    "and 0 meaning neutral\""
   ]
  },
  {
   "cell_type": "code",
   "execution_count": 5,
   "id": "ead8ee34-dfe4-4b66-a21a-c2b976955421",
   "metadata": {},
   "outputs": [],
   "source": [
    "def complete(user_prompt):\n",
    "    completion = client.chat.completions.create(\n",
    "        model='gpt-4o-mini',\n",
    "        messages=[\n",
    "            {\"role\":\"system\", \"content\":system_prompt},\n",
    "            {\"role\":\"user\", \"content\":user_prompt}\n",
    "        ],\n",
    "        temperature=0,\n",
    "        max_tokens = 3,\n",
    "    )\n",
    "    return completion"
   ]
  },
  {
   "cell_type": "code",
   "execution_count": 9,
   "id": "59bddfeb-537c-4bbc-b121-7777841e6bdb",
   "metadata": {},
   "outputs": [],
   "source": [
    "def get_sentiment(text):\n",
    "    user_text = f\"\"\"Please assign a sentiment value for the following text: \\\n",
    "    ```{text}```\n",
    "    \"\"\"\n",
    "    completion = complete(user_text)\n",
    "    return completion.choices[0].message.content"
   ]
  },
  {
   "cell_type": "code",
   "execution_count": 10,
   "id": "300da46b-e92a-4cd1-ae4a-a029a1d7bff7",
   "metadata": {},
   "outputs": [],
   "source": [
    "# X-Men '97\n",
    "review = \"\"\"This isn’t an X-Men cartoon geared to kids today, but one that reproduces what thirtysomethings \\\n",
    "remember, the way they remember it.\"\"\""
   ]
  },
  {
   "cell_type": "code",
   "execution_count": 11,
   "id": "8502cc82-9974-4a7b-91d5-29ea7522325d",
   "metadata": {},
   "outputs": [
    {
     "data": {
      "text/plain": [
       "'0'"
      ]
     },
     "execution_count": 11,
     "metadata": {},
     "output_type": "execute_result"
    }
   ],
   "source": [
    "get_sentiment(review)"
   ]
  },
  {
   "cell_type": "code",
   "execution_count": 12,
   "id": "58a10305-0497-4409-8b23-a57e2c3732c2",
   "metadata": {},
   "outputs": [],
   "source": [
    "system_prompt = \"You are a helpful assistant and an expert-level stock trader. You reply only with \\\n",
    "-1, 0, 1, where 1 means good investment, 0 means neutral and -1 means poor investment\""
   ]
  },
  {
   "cell_type": "code",
   "execution_count": 15,
   "id": "64d87af2-9b56-412f-bbc5-57297348dad3",
   "metadata": {},
   "outputs": [],
   "source": [
    "article = '''The United States Justice Department is preparing to sue Apple for violating antitrust law \\\n",
    "as soon as Thursday, reports Bloomberg. The lawsuit will be the culmination of an investigation that \\\n",
    "initially started in 2019 as an antitrust review of major technology companies. U.S. regulators have \\\n",
    "already sued Google, Meta, and Amazon. '''"
   ]
  },
  {
   "cell_type": "code",
   "execution_count": 17,
   "id": "011edeb6-0b2c-4bda-b82b-b15743086f7a",
   "metadata": {},
   "outputs": [],
   "source": [
    "def get_trade(text):\n",
    "    user_prompt = f\"\"\"Please tell me where this is a good, poor or neutral investment, based on the following \\\n",
    "    article:\n",
    "    ```{text}```\n",
    "    \"\"\"\n",
    "    completion = complete(user_prompt)\n",
    "    return completion.choices[0].message.content"
   ]
  },
  {
   "cell_type": "code",
   "execution_count": 18,
   "id": "285eb788-0b14-423b-9f79-e6bdfb4e89ba",
   "metadata": {},
   "outputs": [
    {
     "data": {
      "text/plain": [
       "'-1'"
      ]
     },
     "execution_count": 18,
     "metadata": {},
     "output_type": "execute_result"
    }
   ],
   "source": [
    "get_trade(article)"
   ]
  },
  {
   "cell_type": "code",
   "execution_count": null,
   "id": "f0e69bcc-c992-4448-ba0e-0dfc95d74f0e",
   "metadata": {},
   "outputs": [],
   "source": []
  }
 ],
 "metadata": {
  "kernelspec": {
   "display_name": "Python 3 (ipykernel)",
   "language": "python",
   "name": "python3"
  },
  "language_info": {
   "codemirror_mode": {
    "name": "ipython",
    "version": 3
   },
   "file_extension": ".py",
   "mimetype": "text/x-python",
   "name": "python",
   "nbconvert_exporter": "python",
   "pygments_lexer": "ipython3",
   "version": "3.12.5"
  }
 },
 "nbformat": 4,
 "nbformat_minor": 5
}
