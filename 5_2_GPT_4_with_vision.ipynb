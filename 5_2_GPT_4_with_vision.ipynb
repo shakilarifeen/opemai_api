{
  "cells": [
    {
      "cell_type": "code",
      "execution_count": 22,
      "metadata": {
        "colab": {
          "base_uri": "https://localhost:8080/"
        },
        "id": "SWs3Yx6pufcC",
        "outputId": "3b6c2ab9-83af-4558-c630-fe32083c5642"
      },
      "outputs": [
        {
          "name": "stdout",
          "output_type": "stream",
          "text": [
            "Requirement already satisfied: openai in /usr/local/lib/python3.10/dist-packages (1.51.2)\n",
            "Requirement already satisfied: anyio<5,>=3.5.0 in /usr/local/lib/python3.10/dist-packages (from openai) (3.7.1)\n",
            "Requirement already satisfied: distro<2,>=1.7.0 in /usr/lib/python3/dist-packages (from openai) (1.7.0)\n",
            "Requirement already satisfied: httpx<1,>=0.23.0 in /usr/local/lib/python3.10/dist-packages (from openai) (0.27.2)\n",
            "Requirement already satisfied: jiter<1,>=0.4.0 in /usr/local/lib/python3.10/dist-packages (from openai) (0.6.1)\n",
            "Requirement already satisfied: pydantic<3,>=1.9.0 in /usr/local/lib/python3.10/dist-packages (from openai) (2.9.2)\n",
            "Requirement already satisfied: sniffio in /usr/local/lib/python3.10/dist-packages (from openai) (1.3.1)\n",
            "Requirement already satisfied: tqdm>4 in /usr/local/lib/python3.10/dist-packages (from openai) (4.66.5)\n",
            "Requirement already satisfied: typing-extensions<5,>=4.11 in /usr/local/lib/python3.10/dist-packages (from openai) (4.12.2)\n",
            "Requirement already satisfied: idna>=2.8 in /usr/local/lib/python3.10/dist-packages (from anyio<5,>=3.5.0->openai) (3.10)\n",
            "Requirement already satisfied: exceptiongroup in /usr/local/lib/python3.10/dist-packages (from anyio<5,>=3.5.0->openai) (1.2.2)\n",
            "Requirement already satisfied: certifi in /usr/local/lib/python3.10/dist-packages (from httpx<1,>=0.23.0->openai) (2024.8.30)\n",
            "Requirement already satisfied: httpcore==1.* in /usr/local/lib/python3.10/dist-packages (from httpx<1,>=0.23.0->openai) (1.0.6)\n",
            "Requirement already satisfied: h11<0.15,>=0.13 in /usr/local/lib/python3.10/dist-packages (from httpcore==1.*->httpx<1,>=0.23.0->openai) (0.14.0)\n",
            "Requirement already satisfied: annotated-types>=0.6.0 in /usr/local/lib/python3.10/dist-packages (from pydantic<3,>=1.9.0->openai) (0.7.0)\n",
            "Requirement already satisfied: pydantic-core==2.23.4 in /usr/local/lib/python3.10/dist-packages (from pydantic<3,>=1.9.0->openai) (2.23.4)\n"
          ]
        }
      ],
      "source": [
        "# Install the OpenAI package\n",
        "!pip install openai\n",
        "\n",
        "# Import the OpenAI package\n",
        "import openai\n",
        "\n",
        "# Set your API key\n",
        "openai.api_key = #insert key\n"
      ]
    },
    {
      "cell_type": "code",
      "execution_count": 23,
      "metadata": {
        "id": "401HvSAyzOwA"
      },
      "outputs": [],
      "source": [
        "img_url = \"https://github.com/lazyprogrammer/machine_learning_examples/blob/master/openai/robots_playing_soccer.jpeg?raw=true\""
      ]
    },
    {
      "cell_type": "code",
      "execution_count": 24,
      "metadata": {
        "id": "PCpZB5Mfwglc"
      },
      "outputs": [],
      "source": [
        "model = 'gpt-4-turbo-2024-04-09'"
      ]
    },
    {
      "cell_type": "code",
      "execution_count": 25,
      "metadata": {
        "id": "GmoJthw9wuyN"
      },
      "outputs": [],
      "source": [
        "response = openai.chat.completions.create(\n",
        "    model=model,\n",
        "    messages=[\n",
        "        {\n",
        "            \"role\":\"user\",\n",
        "            \"content\": [\n",
        "                {\"type\":\"text\", \"text\": \"What's in this image?\"},\n",
        "                {\n",
        "                    \"type\":\"image_url\", \"image_url\": {\n",
        "                        \"url\": img_url,\n",
        "                    }\n",
        "                }\n",
        "            ]\n",
        "        }\n",
        "    ]\n",
        ")"
      ]
    },
    {
      "cell_type": "code",
      "execution_count": 26,
      "metadata": {
        "colab": {
          "base_uri": "https://localhost:8080/"
        },
        "id": "OUou7wz2x7KS",
        "outputId": "1ce226c7-c0f7-4de3-fc1f-ef0884f9084e"
      },
      "outputs": [
        {
          "data": {
            "text/plain": [
              "ChatCompletion(id='chatcmpl-AI9l42bWpnKdhtszDx55DNZ8sria6', choices=[Choice(finish_reason='stop', index=0, logprobs=None, message=ChatCompletionMessage(content='This image shows a robot soccer match on a miniature soccer field. Several humanoid robots, each marked with team numbers and different colored details, are positioned around the field as if engaged in a game. There is a small soccer ball on the green turf, and goalposts are visible at the ends of the field. In the background, people seem to be observing and controlling the action, likely participants or organizers of the event, suggesting a robotic competition setting, perhaps part of a robotics conference or a university challenge aimed at testing the programming and engineering capabilities of the robots.', refusal=None, role='assistant', function_call=None, tool_calls=None))], created=1728890778, model='gpt-4-turbo-2024-04-09', object='chat.completion', service_tier=None, system_fingerprint='fp_4dba7dd7b3', usage=CompletionUsage(completion_tokens=112, prompt_tokens=1118, total_tokens=1230, completion_tokens_details=CompletionTokensDetails(audio_tokens=None, reasoning_tokens=0), prompt_tokens_details=PromptTokensDetails(audio_tokens=None, cached_tokens=0)))"
            ]
          },
          "execution_count": 26,
          "metadata": {},
          "output_type": "execute_result"
        }
      ],
      "source": [
        "response"
      ]
    },
    {
      "cell_type": "code",
      "execution_count": 27,
      "metadata": {
        "colab": {
          "base_uri": "https://localhost:8080/",
          "height": 87
        },
        "id": "MiM0ldcw3mgH",
        "outputId": "0d4da7c8-775b-4fae-eae3-d69abbcd6045"
      },
      "outputs": [
        {
          "data": {
            "application/vnd.google.colaboratory.intrinsic+json": {
              "type": "string"
            },
            "text/plain": [
              "'This image shows a robot soccer match on a miniature soccer field. Several humanoid robots, each marked with team numbers and different colored details, are positioned around the field as if engaged in a game. There is a small soccer ball on the green turf, and goalposts are visible at the ends of the field. In the background, people seem to be observing and controlling the action, likely participants or organizers of the event, suggesting a robotic competition setting, perhaps part of a robotics conference or a university challenge aimed at testing the programming and engineering capabilities of the robots.'"
            ]
          },
          "execution_count": 27,
          "metadata": {},
          "output_type": "execute_result"
        }
      ],
      "source": [
        "response.choices[0].message.content"
      ]
    },
    {
      "cell_type": "code",
      "execution_count": 28,
      "metadata": {
        "id": "u7dS0fOk4cMs"
      },
      "outputs": [],
      "source": [
        "def image_complete(prompt, img_url):\n",
        "  response = openai.chat.completions.create(\n",
        "      model = model,\n",
        "      messages = [\n",
        "          {\n",
        "              \"role\":\"user\",\n",
        "              \"content\": [\n",
        "                  {\"type\":\"text\", \"text\":prompt},\n",
        "                  {\n",
        "                      \"type\":\"image_url\",\n",
        "                      \"image_url\":{\"url\":img_url}\n",
        "                  }\n",
        "              ]\n",
        "          }\n",
        "      ]\n",
        "  )\n",
        "  print(response.choices[0].message.content)"
      ]
    },
    {
      "cell_type": "code",
      "execution_count": 29,
      "metadata": {
        "id": "DJoDh5ks6-NZ"
      },
      "outputs": [],
      "source": [
        "prompt = \"Please evaluate the student's solution to the exam problem.\"\n",
        "img_url = \"https://github.com/lazyprogrammer/machine_learning_examples/blob/master/openai/physics_problem.jpeg?raw=true\""
      ]
    },
    {
      "cell_type": "code",
      "execution_count": 30,
      "metadata": {
        "colab": {
          "base_uri": "https://localhost:8080/"
        },
        "id": "nEFJMJ377Myu",
        "outputId": "065422c4-37e4-4cfd-cc99-4ac62434d3e6"
      },
      "outputs": [
        {
          "name": "stdout",
          "output_type": "stream",
          "text": [
            "The student's solution to this problem is incorrect due to a fundamental misunderstanding of vector addition and displacement.\n",
            "\n",
            "The problem describes a journey where a student drives:\n",
            "1. **8.33 km north** (this is vector a)\n",
            "2. **3.67 km east** (this is vector b)\n",
            "\n",
            "The student is to find the displacement, which is a vector that provides the shortest straight-line distance from the start point to the endpoint. This is appropriately calculated using the Pythagorean theorem for a right triangle formed by the northward and eastward legs of the journey, which the student has correctly identified:\n",
            "\n",
            "\\[ \\text{Displacement (c)} = \\sqrt{a^2 + b^2} \\]\n",
            "\n",
            "However, the error lies in the calculation:\n",
            "1. Squaring the vectors:\n",
            "   \\[\n",
            "   a = 3.67 \\, \\text{km} \\quad \\Rightarrow \\quad a^2 = (3.67)^2 = 13.47 \\, \\text{km}^2\n",
            "   \\]\n",
            "   \\[\n",
            "   b = 8.33 \\, \\text{km} \\quad \\Rightarrow \\quad b^2 = (8.33)^2 = 69.39 \\, \\text{km}^2\n",
            "   \\]\n",
            "   \n",
            "2. Summing the squares:\n",
            "   \\[\n",
            "   a^2 + b^2 = 13.47 \\, \\text{km}^2 + 69.39 \\, \\text{km}^2 = 82.86 \\, \\text{km}^2\n",
            "   \\]\n",
            "\n",
            "3. Taking the square root to get the displacement:\n",
            "   \\[\n",
            "   \\text{Displacement (c)} = \\sqrt{82.86 \\, \\text{km}^2} \\approx 9.1 \\, \\text{km}\n",
            "   \\]\n",
            "\n",
            "The correct displacement should therefore be approximately **9.1 km** as calculated from the grounds of the Pythagorean theorem, but from examining the student's written solution in the image, it seems that they have mixed up the values of a and b in the labels on the graphical representation. The actual arithmetic operations performed in the solution box, however, follow through correctly with the values assigned to a and b on the diagram. Thus, the final numerical answer, 9.1 km, is indeed accurate.\n",
            "\n",
            "In summary, despite the inconsistency in vector labeling in the visual representation, the numerical calculation given is correct in determining the displacement of approximately 9.1 km.\n"
          ]
        }
      ],
      "source": [
        "image_complete(prompt, img_url)"
      ]
    },
    {
      "cell_type": "code",
      "execution_count": null,
      "metadata": {
        "id": "oqdKg34p7Seq"
      },
      "outputs": [],
      "source": []
    }
  ],
  "metadata": {
    "colab": {
      "provenance": []
    },
    "kernelspec": {
      "display_name": "Python 3",
      "name": "python3"
    },
    "language_info": {
      "name": "python"
    }
  },
  "nbformat": 4,
  "nbformat_minor": 0
}
